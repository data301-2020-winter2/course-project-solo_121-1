import seaborn as sns
sns.set(rc={'figure.figsize':(11.7,8.27)})
sns.set_theme(style="darkgrid")
G1 = sns.countplot(x="age",hue="smoker", data=MedDataSet)


